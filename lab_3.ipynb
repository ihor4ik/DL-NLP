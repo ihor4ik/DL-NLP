{
 "cells": [
  {
   "cell_type": "markdown",
   "id": "086c4f23",
   "metadata": {},
   "source": [
    "# Exercises"
   ]
  },
  {
   "cell_type": "markdown",
   "id": "9d43d07a",
   "metadata": {},
   "source": [
    "---"
   ]
  },
  {
   "cell_type": "markdown",
   "id": "44e56d3c",
   "metadata": {},
   "source": [
    "## Task 1. `Implement Wagner-Fischer`"
   ]
  },
  {
   "cell_type": "code",
   "execution_count": 1,
   "id": "ce25f626",
   "metadata": {},
   "outputs": [],
   "source": [
    "import numpy as np"
   ]
  },
  {
   "cell_type": "code",
   "execution_count": 13,
   "id": "3bd7424e",
   "metadata": {},
   "outputs": [],
   "source": [
    "def qwerty_distance(char1, char2):\n",
    "    qwerty_layout = \"qwertasdfgzxcvb\"\n",
    "\n",
    "    if char1 in qwerty_layout and char2 in qwerty_layout:\n",
    "        return abs(qwerty_layout.index(char1) - qwerty_layout.index(char2))\n",
    "    else:\n",
    "        return np.inf"
   ]
  },
  {
   "cell_type": "code",
   "execution_count": 14,
   "id": "62f06ed5",
   "metadata": {},
   "outputs": [],
   "source": [
    "def damerau_levenshtein_distance(s1, s2):\n",
    "    dp = np.zeros((len(s1) + 1, len(s2) + 1)) # матриця для зберігання відстаней\n",
    "\n",
    "    for i in range(len(s1) + 1):\n",
    "        dp[i, 0] = i\n",
    "    for j in range(len(s2) + 1):\n",
    "        dp[0, j] = j\n",
    "\n",
    "    for i in range(1, len(s1) + 1): # відстань між рядками\n",
    "        for j in range(1, len(s2) + 1):\n",
    "            substitution_cost = 0 if s1[i - 1] == s2[j - 1] else qwerty_distance(s1[i - 1], s2[j - 1])\n",
    "            dp[i, j] = min(\n",
    "                dp[i - 1, j] + 1,\n",
    "                dp[i, j - 1] + 1,\n",
    "                dp[i - 1, j - 1] + substitution_cost\n",
    "            )\n",
    "\n",
    "            # транспозиціч\n",
    "            if i > 1 and j > 1 and s1[i - 1] == s2[j - 2] and s1[i - 2] == s2[j - 1]:\n",
    "                dp[i, j] = min(dp[i, j], dp[i - 2, j - 2] + substitution_cost)\n",
    "\n",
    "    return dp[len(s1), len(s2)]"
   ]
  },
  {
   "cell_type": "code",
   "execution_count": 15,
   "id": "2b2bcbcb",
   "metadata": {},
   "outputs": [
    {
     "name": "stdout",
     "output_type": "stream",
     "text": [
      "5.0\n"
     ]
    }
   ],
   "source": [
    "distance = damerau_levenshtein_distance(\"kitten\", \"sitting\")\n",
    "print(distance)"
   ]
  },
  {
   "cell_type": "markdown",
   "id": "c756ac22",
   "metadata": {},
   "source": [
    "---"
   ]
  },
  {
   "cell_type": "markdown",
   "id": "2630d53d",
   "metadata": {},
   "source": [
    "## Task 2. `Take an arbitrary text from NLTK corpora (e.g. text3) and implement a Bag-of-Words tagger for it.`"
   ]
  },
  {
   "cell_type": "code",
   "execution_count": 5,
   "id": "773f60f6",
   "metadata": {},
   "outputs": [],
   "source": [
    "from collections import Counter\n",
    "from nltk.corpus import gutenberg\n",
    "from nltk.tokenize import word_tokenize"
   ]
  },
  {
   "cell_type": "code",
   "execution_count": 7,
   "id": "148ae7a5",
   "metadata": {},
   "outputs": [],
   "source": [
    "document = gutenberg.raw('shakespeare-hamlet.txt')"
   ]
  },
  {
   "cell_type": "code",
   "execution_count": 8,
   "id": "bf823ed2",
   "metadata": {},
   "outputs": [],
   "source": [
    "words = word_tokenize(document)"
   ]
  },
  {
   "cell_type": "code",
   "execution_count": 9,
   "id": "83d4b9c4",
   "metadata": {},
   "outputs": [],
   "source": [
    "word_counts = Counter(words)"
   ]
  },
  {
   "cell_type": "code",
   "execution_count": 11,
   "id": "fbacb4b5",
   "metadata": {},
   "outputs": [
    {
     "name": "stdout",
     "output_type": "stream",
     "text": [
      "0\n"
     ]
    }
   ],
   "source": [
    "print(word_counts['hamlet'])"
   ]
  }
 ],
 "metadata": {
  "kernelspec": {
   "display_name": "Python 3 (ipykernel)",
   "language": "python",
   "name": "python3"
  },
  "language_info": {
   "codemirror_mode": {
    "name": "ipython",
    "version": 3
   },
   "file_extension": ".py",
   "mimetype": "text/x-python",
   "name": "python",
   "nbconvert_exporter": "python",
   "pygments_lexer": "ipython3",
   "version": "3.10.8"
  }
 },
 "nbformat": 4,
 "nbformat_minor": 5
}
