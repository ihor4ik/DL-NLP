{
 "cells": [
  {
   "cell_type": "code",
   "execution_count": 9,
   "id": "3a2bb422",
   "metadata": {},
   "outputs": [
    {
     "name": "stderr",
     "output_type": "stream",
     "text": [
      "[nltk_data] Downloading package nps_chat to\n",
      "[nltk_data]     /Users/macbook/nltk_data...\n",
      "[nltk_data]   Package nps_chat is already up-to-date!\n",
      "[nltk_data] Downloading package webtext to /Users/macbook/nltk_data...\n",
      "[nltk_data]   Package webtext is already up-to-date!\n"
     ]
    },
    {
     "name": "stdout",
     "output_type": "stream",
     "text": [
      "*** Introductory Examples for the NLTK Book ***\n",
      "Loading text1, ..., text9 and sent1, ..., sent9\n",
      "Type the name of the text or sentence to view it.\n",
      "Type: 'texts()' or 'sents()' to list the materials.\n",
      "text1: Moby Dick by Herman Melville 1851\n",
      "text2: Sense and Sensibility by Jane Austen 1811\n",
      "text3: The Book of Genesis\n",
      "text4: Inaugural Address Corpus\n",
      "text5: Chat Corpus\n",
      "text6: Monty Python and the Holy Grail\n",
      "text7: Wall Street Journal\n",
      "text8: Personals Corpus\n",
      "text9: The Man Who Was Thursday by G . K . Chesterton 1908\n"
     ]
    }
   ],
   "source": [
    "import nltk\n",
    "nltk.download('nps_chat')\n",
    "nltk.download('webtext')\n",
    "from nltk.book import *"
   ]
  },
  {
   "cell_type": "markdown",
   "id": "c492e7cf",
   "metadata": {},
   "source": [
    "# Exercises"
   ]
  },
  {
   "cell_type": "markdown",
   "id": "c3a8c28f",
   "metadata": {},
   "source": [
    "---"
   ]
  },
  {
   "cell_type": "markdown",
   "id": "96730fe7",
   "metadata": {},
   "source": [
    "## Task 1. `Using FreqDist, find the following from text3`"
   ]
  },
  {
   "cell_type": "markdown",
   "id": "33fe64ed",
   "metadata": {},
   "source": [
    "### • words that are hapaxes (unique) and those that occur less than 5 times"
   ]
  },
  {
   "cell_type": "code",
   "execution_count": 17,
   "id": "5eb6fc60",
   "metadata": {},
   "outputs": [],
   "source": [
    "from nltk import FreqDist"
   ]
  },
  {
   "cell_type": "code",
   "execution_count": 19,
   "id": "1c597ba6",
   "metadata": {},
   "outputs": [],
   "source": [
    "fdist = FreqDist(text3)"
   ]
  },
  {
   "cell_type": "code",
   "execution_count": 21,
   "id": "928e6b11",
   "metadata": {},
   "outputs": [],
   "source": [
    "hapaxes = fdist.hapaxes() #унікальні слова"
   ]
  },
  {
   "cell_type": "code",
   "execution_count": 22,
   "id": "43a9699b",
   "metadata": {},
   "outputs": [],
   "source": [
    "less_than_5 = [word for word, freq in fdist.items() if freq < 5] # слова < 5 разів"
   ]
  },
  {
   "cell_type": "code",
   "execution_count": 28,
   "id": "64381267",
   "metadata": {},
   "outputs": [
    {
     "name": "stdout",
     "output_type": "stream",
     "text": [
      "список унікальних слів: \n",
      "\n",
      " ['form', 'void', 'Day', 'Night', 'firmame', 'Heaven', 'appe', 'Earth', 'signs', 'seasons', 'lesser', 'nig', 'darkne', 'fly', 'whales', 'winged', 'seas', 'likene', 'subdue', 'finished', 'sanctified', 'plant', 'gr', 'mist', 'breathed', 'parted', 'Pison', 'bdellium', 'onyx', 'Gihon', 'Ethiopia', 'Hiddekel', 'Assyria', 'Euphrates', 'freely', 'eatest', 'sle', 'ribs', 'rib', 'Woman', 'Man', 'cleave', 'ashamed', 'subtil', 'gard', 'knowing', 'desired', 'sewed', 'fig', 'leaves', 'aprons', 'walking', 'cool', 'whereof', 'gavest', 'belly', 'enmity', 'conception', 'Thorns', 'thistles', 'sweat', 'tak', 'coats', 'clothed', 'Cherubims', 'flaming', 'tiller', 'firstlings', 'fallen', 'crieth', 'tillest', 'henceforth', 'punishment', 'driven', 'findeth', 'whosoever', 'slayeth', 'vengeance', 'mark', 'finding', 'Nod', 'Methusa', 'Methusael', 'Jabal', 'Jubal', 'handle', 'organ', 'instructor', 'artificer', 'brass', 'ir', 'Naamah', 'spee', 'wounding', 'avenged', 'En', 'book', 'Male', 'begotten', 'Eno', 'always', 'giants', 'renown', 'thoughts', 'repented', 'repenteth', 'just', 'corrupted', 'gopher', 'rooms', 'fashion', 'height', 'cubit', 'finish', 'lower', 'stories', 'fema', 'cause', 'bird', 'hills', 'Fifteen', 'upward', 'asswaged', 'Ararat', 'decreased', 'tops', 'ma', 'raven', 'fro', 'sole', 'olive', 'leaf', 'pluckt', 'twentieth', 'breed', 'kinds', 'offerings', 'sweet', 'savour', 'While', 'remaineth', 'seedtime', 'cold', 'summer', 'winter', 'cease', 'dread', 'fishes', 'liveth', 'Whoso', 'sheddeth', 'shed', 'perpetual', 'clo', 'overspread', 'husbandman', 'vineyard', 'drunken', 'uncovered', 'shoulders', 'enlarge', 'Magog', 'Madai', 'Tubal', 'Meshech', 'Tiras', 'Ashkenaz', 'Riphath', 'Togarmah', 'Elishah', 'Tarshish', 'Kittim', 'Dodanim', 'isles', 'Gentiles', 'tongue', 'Phut', 'Seba', 'Sabtah', 'Sabtech', 'Erech', 'Accad', 'Calneh', 'Resen', 'Ludim', 'Anamim', 'Lehabim', 'Naphtuhim', 'Pathrusim', 'Casluhim', 'Philistim', ',)', 'Caphtorim', 'Jebusite', 'Girgasite', 'Arkite', 'Sinite', 'Arvadite', 'Zemarite', 'Hamathite', 'Gaza', 'Zeboim', 'Lasha', 'Lud', 'Hul', 'Gether', 'Mash', 'Almodad', 'Sheleph', 'Hazarmaveth', 'Jerah', 'Hadoram', 'Uzal', 'Diklah', 'Obal', 'Abimael', 'Ophir', 'Mesha', 'Sephar', 'natio', 'thoroughly', 'slime', 'morter', 'reach', 'begin', 'imagined', 'flo', 'nineteen', 'nativity', 'Iscah', 'blessi', 'Sichem', 'Moreh', 'having', 'enter', 'commended', 'entreated', 'plagued', 'plagues', 'rich', 'journeys', 'fir', 'Perizzite', 'sinners', 'northward', 'southward', 'westwa', 'war', 'Bera', 'Birsha', 'Shinab', 'Shemeber', 'Twelve', 'thirteenth', 'rebelled', 'fourteenth', 'Ashteroth', 'Karnaim', 'Zuzims', 'Emins', 'Kiriathaim', 'Elparan', 'Enmishpat', 'Amalekites', 'Hazezontamar', ';)', 'battle', 'slimepits', 'victuals', 'escaped', 'An', 'confederate', 'armed', 'trained', 'eighteen', 'Hobah', 'slaughter', 'dale', 'Melchizedek', 'Salem', 'tithes', 'shoelatchet', 'ri', 'Save', 'Aner', 'vision', 'Abr', 'shield', 'reward', 'childless', 'Eliezer', 'Look', 'heifer', 'goat', 'turtledove', 'pigeon', 'piece', 'carcases', 'horror', 'dark', 'smoking', 'burning', 'lamp', 'Euphrat', 'Kenites', 'Kenizzites', 'Kadmonites', 'Hittites', 'Perizzites', 'Girgashites', 'Jebusites', 'beari', 'obtain', 'wrong', 'bosom', 'hardly', 'submit', 'wild', 'Beerlahairoi', 'Bered', 'Neither', 'circumcise', 'circumcis', 'beget', 'next', 'talking', 'thirteen', 'plains', 'tr', 'morsel', 'hearts', 'measures', 'meal', 'knead', 'cakes', 'hearth', 'herd', 'fetcht', 'butter', 'dressed', 'ceased', 'pleasure', 'too', 'At', 'denied', 'Seeing', 'justice', 'judgment', 'altogether', 'wick', 'Judge', 'sakes', 'ash', 'spe', 'communing', 'lords', 'ways', 'street', 'bake', 'unleavened', 'compassed', 'quart', 'wickedly', 'shadow', 'roof', 'Stand', 'fellow', 'jud', 'worse', 'blindness', 'wearied', 'waxen', 'married', 'mocked', 'merciful', 'Escape', 'stay', 'magnified', 'saving', '?)', 'anything', 'risen', 'rained', 'brimstone', 'gat', 'Zo', 'Our', 'morrow', 'Moabites', 'Benam', 'Ammon', 'Said', 'innocency', 'sinning', 'prophet', 'deeds', 'sawest', 'wander', 'thousand', 'oth', 'prayed', 'healed', 'fast', 'wombs', 'visited', 'suck', 'mocking', 'Cast', 'putting', 'wandered', 'shrubs', 'sh', 'aileth', 'archer', 'Paran', 'doe', 'falsely', 'violently', 'mean', 'grove', 'tempt', 'lovest', 'Moriah', 'offer', 'saddled', 'Abide', 'yonder', 'worship', 'order', 'Lay', 'fearest', 'thicket', 'hor', 'Jehovahjireh', 'sworn', 'multiplying', 'shore', 'Huz', 'Buz', 'Kemuel', 'Chesed', 'Hazo', 'Pildash', 'Jidlaph', 'Reumah', 'Tebah', 'Gaham', 'Thahash', 'Maachah', 'Kirjatharba', 'mourn', 'sojourner', 'sepulchres', 'withhold', 'sepulchre', 'intreat', 'weighed', 'current', 'merchant', 'Mam', 'ruled', 'Beware', 'oa', 'Mesopotamia', 'kneel', 'speed', 'thereby', 'giving', 'trough', 'wondering', 'wit', 'golden', 'half', 'shekel', 'destitute', 'tru', 'standest', 'ungirded', 'errand', 'Speak', 'Both', 'proceedeth', 'bowing', 'Rebek', 'precious', 'Hinder', 'prospered', 'thousands', 'millions', 'damsels', 'rode', 'meditate', 'eventide', 'coming', 'walketh', 'mast', 'Zimran', 'Medan', 'Ishbak', 'Asshurim', 'Letushim', 'Leummim', 'Ephah', 'Epher', 'Abidah', 'Eldaah', 'concubines', 'gifts', 'purchased', 'Kedar', 'Adbeel', 'Mibsam', 'Mishma', 'Dumah', 'Massa', 'Tema', 'Jetur', 'Naphish', 'Kedemah', 'towns', 'castles', 'Assyr', 'barr', 'struggled', 'boys', 'cunning', 'sod', 'Feed', 'Sell', 'point', 'lentiles', 'Sojourn', 'perform', 'commandments', 'statutes', 'laws', 'sporting', 'lightly', 'lien', 'guiltiness', 'toucheth', 'sowed', 'received', 'hundredfo', 'forward', 'mightier', 'springing', 'ou', 'Esek', 'Sitnah', 'Ahuzzath', 'friends', 'army', 'pea', 'betimes', 'Shebah', 'Judith', 'Beeri', 'Hitti', 'Which', 'grief', 'dea', 'weapons', 'quiver', 'hunt', 'seem', 'deceiver', 'Upon', 'ne', 'badest', 'sit', 'felt', 'discerned', 'han', 'Art', 'wi', 'blesseth', 'scarce', 'hunting', 'trembled', 'bitter', 'Bless', 'subtilty', 'rightly', 'supplanted', 'tim', 'reserved', 'sustained', 'yoke', 'wherewith', 'touching', 'purposing', 'fury', 'Until', 'deprived', 'weary', 'Mahalath', 'ladder', 'reached', 'heav', 'ascending', 'descending', 'whereon', 'liest', 'north', 'awaked', 'dreadful', 'vowed', 'floc', 'roll', 'tidings', 'nought', 'eyed', 'beautiful', 'better', 'Fulfil', 'Reub', 'judged', 'wrestlings', 'Happy', 'wheat', 'hired', 'maiden', 'husba', 'endued', 'afterwards', 'reproa', 'add', 'tar', 'learned', 'experience', 'Appoint', 'comi', 'removing', 'goa', 'poplar', 'hazel', 'chesnut', 'strakes', 'appear', 'watering', 'troughs', 'whensoever', 'feeble', 'feebler', 'deceived', 'speckl', 'leaped', 'grisled', 'leap', 'grisl', 'doeth', 'anointedst', 'vowedst', 'Are', 'quite', 'ours', 'getting', 'stole', 'mou', 'captives', 'secretly', 'mirth', 'songs', 'tabret', 'foolishly', 'longedst', 'force', 'findest', 'discern', 'furniture', 'displease', 'custom', 'chode', 'hotly', 'Whereas', 'loss', 'drought', 'frost', 'mi', 'Jegarsahadutha', 'Mizpah', 'watch', 'absent', 'harm', 'sacrifice', 'Mahanaim', 'womenservan', 'distressed', 'worthy', 'mercies', 'Deliver', 'Thirty', 'milch', 'colts', 'bulls', 'foals', 'Pass', 'meeteth', 'asketh', 'droves', 'appease', 'accept', 'ford', 'Jabbok', 'brook', 'breaking', 'joint', 'breaketh', 'Tell', 'ask', 'Peniel', 'preserved', 'Penuel', 'halted', 'hindermost', 'handmaidens', 'meanest', 'urged', 'knoweth', 'overdrive', 'lead', 'softly', 'endure', 'folk', 'needeth', 'booths', 'Shalem', 'parcel', 'erected', 'EleloheIsrael', 'commune', 'wrought', 'folly', 'longeth', 'marriages', 'Ask', 'gift', 'deceitfully', 'reproach', 'deferred', 'delight', 'honourable', 'peaceable', 'large', 'herein', 'boldly', 'males', 'edge', 'wealth', 'stink', 'Perizzit', 'Should', 'fleddest', 'change', 'garmen', 'earrings', 'oak', 'terror', 'pursue', 'Elbethel', 'Deborah', 'beneath', 'Allonbachuth', 'na', 'sto', 'departing', 'Beno', 'Edar', 'concubi', 'twel', 'Zebul', 'Arbah', 'Amal', 'Amalek', 'Kor', 'Horite', 'inhabited', 'Hemam', 'Alvan', 'Manahath', 'Ebal', 'Shepho', 'Onam', 'Ajah', 'mules', 'Hemdan', 'Eshban', 'Ithran', 'Cheran', 'Bilhan', 'Zaavan', 'Akan', 'Aran', 'Beor', 'Dinhabah', 'Bozrah', 'Temani', 'Bedad', 'Avith', 'Masrekah', 'Pau', 'Mehetabel', 'Matred', 'Mezahab', 'Timnah', 'Alvah', 'Jetheth', 'Elah', 'Pinon', 'Mibzar', 'Magdiel', 'Iram', 'possessi', 'feeding', 'wiv', 'report', 'peaceably', 'binding', 'upright', 'Shalt', 'reign', 'moon', 'observed', 'wandering', 'seekest', 'conspired', 'dreamer', 'Some', 'Shed', 'rid', 'stript', 'spicery', 'conceal', 'sell', 'content', 'merchantmen', 'killed', 'dipped', 'fou', 'doubt', 'sackcloth', 'Shel', 'Chezib', 'marry', 'raise', 'spilled', 'Remain', 'gro', 'sheepshearers', 'wrapped', 'grown', '.)', 'widowhood', 'openly', 'shamed', 'months', 'played', 'whoredom', 'chi', 'Discern', 'acknowledged', 'travail', 'breach', 'Zarah', 'person', 'wotteth', 'business', 'loud', 'voi', 'bou', 'doer', 'butlers', 'bakers', 'continued', 'season', 'sad', 'sadly', 'interpretations', 'belong', 'budded', 'blossoms', 'clusters', 'ripe', 'grapes', 'former', 'think', 'mention', 'dungeon', 'uppermost', 'bakemeats', 'hang', 'birthday', 'butlership', 'forgat', 'meadow', 'brink', 'slept', 'faults', 'bak', 'office', 'hastily', 'dunge', 'shaved', 'canst', 'bank', 'riv', 'mead', 'poor', 'badne', 'lean', 'withered', 'declare', 'sheweth', 'forgotten', 'consume', 'following', 'doubled', 'twice', 'shortly', 'appoint', 'perish', 'Can', 'Forasmuch', 'rul', 'throne', 'ring', 'arrayed', 'vestures', 'linen', 'chain', 'ride', 'Bow', 'kn', 'Zaphnathpaaneah', 'handfuls', 'citi', 'numbering', 'plenteousness', 'famished', 'storehouses', 'Whence', 'From', 'spi', 'y', 'pris', 'hous', 'verified', 'verily', 'guilty', 'anguish', 'besought', 'Spake', 'required', 'understood', 'espied', 'befell', 'traffick', 'bundle', 'bundles', 'Me', 'childr', 'Slay', 'alo', 'solemnly', 'protest', 'straitly', 'state', 'tenor', 'wor', 'fruits', 'vessels', 'honey', 'spices', 'nuts', 'almon', 'oversig', 'dine', 'bade', 'occasion', 'sir', 'weig', 'Peace', 'treasure', 'sac', 'welfare', 'health', 'gracious', 'yearn', 'sought', 'chamber', 'refrained', 'Set', 'marvelled', 'messes', 'mess', 'merry', 'Fill', 'overtake', 'rewarded', 'drinketh', 'divineth', 'mouths', 'blameless', 'speedily', 'younge', 'deed', 'divine', 'loveth', 'bondman', 'refrain', 'Cause', 'aloud', 'hith', 'earing', 'posterity', 'deliverance', 'poverty', 'speaketh', 'fame', 'co', 'lade', 'regard', 'commandment', 'To', 'reviv', 'sacrifices', 'visions', 'nati', 'aga', 'Phallu', 'Carmi', 'Jemuel', 'Jamin', 'Ohad', 'Jachin', 'Shaul', 'Canaanitish', 'Gershon', 'Kohath', 'Merari', 'Zar', 'Hamul', 'Tola', 'Phuvah', 'Job', 'Shimron', 'Sered', 'Jahleel', 'Din', 'Ziphion', 'Haggi', 'Shuni', 'Ezbon', 'Eri', 'Arodi', 'Areli', 'Jimnah', 'Ishuah', 'Isui', 'Serah', 'Heber', 'Malchiel', 'sixteen', 'Belah', 'Becher', 'Ashbel', 'Gera', 'Naaman', 'Ehi', 'Rosh', 'Muppim', 'Huppim', 'Ard', 'Hushim', 'Jahzeel', 'Guni', 'Jezer', 'Shillem', 'direct', 'fathe', 'morever', 'pasture', 'activity', 'rulers', 'attained', 'Rameses', 'nourished', 'boug', 'faileth', 'fail', 'exchange', 'horses', 'bodies', 'lan', 'desolate', 'assigned', 'sow', 'increase', 'parts', 'saved', 'multiplied', 'nigh', 'si', 'strengthened', 'issue', 'begettest', 'Padan', 'guiding', 'wittingly', 'Angel', 'redeemed', 'lads', 'remove', 'Not', 'Manass', 'dignity', 'pow', 'Unstable', 'excel', 'wentest', 'defiledst', 'couch', 'instruments', 'cruelty', 'secret', 'assembly', 'honour', 'unit', 'selfwill', 'wall', 'fierce', 'cru', 'whelp', 'stooped', 'couched', 'rouse', 'sceptre', 'lawgiver', 'Shiloh', 'Binding', 'foal', 'colt', 'teeth', 'ships', 'Zidon', 'couching', 'burdens', 'tribute', 'adder', 'path', 'biteth', 'horse', 'heels', 'rider', 'waited', 'salvation', 'royal', 'dainties', 'hind', 'loose', 'giveth', 'run', 'wa', 'archers', 'sorely', 'arms', 'breasts', 'progenitors', 'utmost', 'hil', 'crown', 'ravin', 'wolf', 'devour', 'spoil', 'peop', 'purchase', 'commanding', 'yielded', 'past', 'chariots', 'horsemen', 'threshingfloor', 'lamentati', 'floor', 'Egyptia', 'Abelmizraim', 'requite', 'messenger', 'Forgive', 'forgive', 'meant', 'Machir', 'coffin']\n"
     ]
    }
   ],
   "source": [
    "print(\"список унікальних слів:\", '\\n\\n', hapaxes)"
   ]
  },
  {
   "cell_type": "code",
   "execution_count": 29,
   "id": "30a18bd2",
   "metadata": {},
   "outputs": [
    {
     "name": "stdout",
     "output_type": "stream",
     "text": [
      "список слів, що зустрічаються < 5 разів: \n",
      "\n",
      " ['form', 'void', 'darkness', 'Spirit', 'moved', 'Day', 'Night', 'firmame', 'Heaven', 'dry', 'appe', 'Earth', 'gathering', 'Se', 'grass', 'itself', 'lights', 'signs', 'seasons', 'lesser', 'nig', 'darkne', 'fourth', 'abundantly', 'moving', 'fly', 'open', 'whales', 'moveth', 'winged', 'Be', 'fill', 'seas', 'likene', 'dominion', 'fish', 'replenish', 'subdue', 'bearing', 'green', 'sixth', 'heavens', 'finished', 'host', 'seventh', 'ended', 'work', 'rested', 'sanctified', 'plant', 'gr', 'caused', 'rain', 'mist', 'formed', 'breathed', 'nostrils', 'breath', 'planted', 'eastward', 'grow', 'pleasant', 'knowledge', 'parted', 'heads', 'Pison', 'compasseth', 'Havilah', 'bdellium', 'onyx', 'Gihon', 'Ethiopia', 'Hiddekel', 'goeth', 'Assyria', 'Euphrates', 'dress', 'freely', 'e', 'eatest', 'alone', 'help', 'fall', 'sle', 'ribs', 'closed', 'instead', 'rib', 'bone', 'bones', 'fle', 'Woman', 'Man', 'cleave', 'naked', 'ashamed', 'subtil', 'Yea', 'trees', 'gard', 'touch', 'doth', 'knowing', 'desired', 'wise', 'sewed', 'fig', 'leaves', 'aprons', 'walking', 'cool', 'hid', 'amongst', 'myself', 'wast', 'Hast', 'whereof', 'shouldest', 'gavest', 'beguiled', 'belly', 'li', 'enmity', 'bruise', 'heel', 'conception', 'desire', 'Thorns', 'thistles', 'sweat', 'tak', 'Eve', 'coats', 'skins', 'clothed', 'ev', 'whence', 'placed', 'Cherubims', 'flaming', 'tiller', 'process', 'firstlings', 'respect', 'offeri', 'countenance', 'Why', 'fallen', 'doest', 'accepted', 'lieth', 'n', 'Am', 'crieth', 'receive', 'tillest', 'henceforth', 'yield', 'strength', 'fugitive', 'vagabond', 'punishment', 'driven', 'findeth', 'whosoever', 'slayeth', 'vengeance', 'sevenfold', 'mark', 'finding', 'Nod', 'Irad', 'Mehujael', 'Methusa', 'Methusael', 'Zillah', 'Jabal', 'Jubal', 'handle', 'harp', 'organ', 'Tubalcain', 'instructor', 'artificer', 'brass', 'ir', 'Naamah', 'Hear', 'spee', 'slain', 'wounding', 'hurt', 'avenged', 'truly', 'appointed', 'En', 'book', 'likeness', 'Male', 'begotten', 'fifteen', 'Eno', 'walked', 'eighty', 'comfort', 'toil', 'chose', 'spirit', 'always', 'strive', 'giants', 'renown', 'wickedness', 'imagination', 'thoughts', 'continually', 'repented', 'grieved', 'repenteth', 'just', 'perfect', 'corrupt', 'violence', 'corrupted', 'Make', 'gopher', 'rooms', 'pitch', 'fashion', 'length', 'cubits', 'breadth', 'height', 'A', 'window', 'cubit', 'finish', 'side', 'lower', 'stories', 'sort', 'gather', 'generation', 'sevens', 'fema', 'cause', 'nights', 'hundredth', 'seventeenth', 'fountains', 'broken', 'windows', 'selfsame', 'bird', 'shut', 'increased', 'hills', 'Fifteen', 'upward', 'prevail', 'mountains', 'remained', 'remembered', 'wind', 'asswaged', 'stopped', 'restrained', 'abated', 'Ararat', 'decreased', 'tenth', 'tops', 'ma', 'raven', 'fro', 'dried', 'Also', 'rest', 'sole', 'foot', 'pulled', 'stayed', 'olive', 'leaf', 'pluckt', 'covering', 'twentieth', 'breed', 'Every', 'kinds', 'offered', 'offerings', 'smelled', 'sweet', 'savour', 'curse', 'youth', 'smite', 'While', 'remaineth', 'seedtime', 'harvest', 'cold', 'heat', 'summer', 'winter', 'cease', 'dread', 'fishes', 'liveth', 'lives', 'Whoso', 'sheddeth', 'shed', 'cut', 'token', 'perpetual', 'generatio', 'cloud', 'clo', 'remember', 'established', 'Japhe', 'overspread', 'husbandman', 'vineyard', 'drank', 'drunken', 'uncovered', 'shoulders', 'backward', 'faces', 'awoke', 'Cursed', 'Blessed', 'enlarge', 'Gomer', 'Magog', 'Madai', 'Javan', 'Tubal', 'Meshech', 'Tiras', 'Ashkenaz', 'Riphath', 'Togarmah', 'Elishah', 'Tarshish', 'Kittim', 'Dodanim', 'By', 'isles', 'Gentiles', 'tongue', 'Cush', 'Mizraim', 'Phut', 'Seba', 'Sabtah', 'Raamah', 'Sabtech', 'Sheba', 'Dedan', 'Nimrod', 'hunter', 'Even', 'kingdom', 'Babel', 'Erech', 'Accad', 'Calneh', 'Shinar', 'Out', 'Asshur', 'Nineveh', 'Rehoboth', 'Calah', 'Resen', 'Ludim', 'Anamim', 'Lehabim', 'Naphtuhim', 'Pathrusim', 'Casluhim', 'Philistim', ',)', 'Caphtorim', 'Sidon', 'Jebusite', 'Amorite', 'Girgasite', 'Hivite', 'Arkite', 'Sinite', 'Arvadite', 'Zemarite', 'Hamathite', 'afterward', 'spread', 'border', 'comest', 'Gaza', 'Admah', 'Zeboim', 'Lasha', 'tongues', 'countries', 'elder', 'Elam', 'Lud', 'Aram', 'Uz', 'Hul', 'Gether', 'Mash', 'Joktan', 'Almodad', 'Sheleph', 'Hazarmaveth', 'Jerah', 'Hadoram', 'Uzal', 'Diklah', 'Obal', 'Abimael', 'Ophir', 'Jobab', 'dwelling', 'Mesha', 'Sephar', 'natio', 'language', 'speech', 'brick', 'burn', 'thoroughly', 'slime', 'morter', 'build', 'tower', 'top', 'reach', 'scattered', 'begin', 'nothing', 'imagined', 'confound', 'understand', 'scatter', 'flo', 'Reu', 'Serug', 'nineteen', 'nativity', 'Ur', 'Chaldees', 'Iscah', 'barren', 'Get', 'blessi', 'curseth', 'Sichem', 'Moreh', 'Canaanite', 'la', 'having', 'west', 'Hai', 'ea', 'going', 'still', 'sojourn', 'enter', 'save', 'Say', 'princes', 'commended', 'Phara', 'entreated', 'plagued', 'plagues', 'rich', 'journeys', 'fir', 'able', 'togeth', 'strife', 'catt', 'Perizzite', 'dwelled', 'separate', 'thyself', 'depart', 'like', 'separated', 'wicked', 'sinners', 'Lift', 'northward', 'southward', 'westwa', 'seest', 'ever', 'number', 'numbered', 'walk', 'built', 'Amraphel', 'Arioch', 'Ellasar', 'Tidal', 'war', 'Bera', 'Birsha', 'Shinab', 'Shemeber', 'Zeboiim', 'Bela', 'joined', 'vale', 'Siddim', 'salt', 'Twelve', 'thirteenth', 'rebelled', 'fourteenth', 'Rephaims', 'Ashteroth', 'Karnaim', 'Zuzims', 'Emins', 'Shaveh', 'Kiriathaim', 'Horites', 'Elparan', 'Enmishpat', 'Kadesh', 'Amalekites', 'Amorites', 'Hazezontamar', ';)', 'battle', 'With', 'slimepits', 'victuals', 'escaped', 'Hebrew', 'Eshcol', 'An', 'confederate', 'captive', 'armed', 'trained', 'eighteen', 'pursued', 'Hobah', 'Damascus', 'slaughter', 'valley', 'dale', 'Melchizedek', 'Salem', 'priest', 'most', 'possessor', 'enemies', 'tithes', 'persons', 'thread', 'shoelatchet', 'ri', 'Save', 'Aner', 'After', 'vision', 'Fear', 'Abr', 'shield', 'exceeding', 'reward', 'childless', 'steward', 'Eliezer', 'heir', 'bowels', 'Look', 'believed', 'counted', 'righteousness', 'inherit', 'whereby', 'heifer', 'goat', 'ram', 'turtledove', 'pigeon', 'piece', 'anoth', 'birds', 'carcases', 'horror', 'Know', 'afflict', 'hither', 'iniquity', 'dark', 'smoking', 'furnace', 'burning', 'lamp', 'Euphrat', 'Kenites', 'Kenizzites', 'Kadmonites', 'Hittites', 'Perizzites', 'Girgashites', 'Jebusites', 'beari', 'obtain', 'mistress', 'despised', 'wrong', 'bosom', 'ey', 'pleaseth', 'dealt', 'hardly', 'fountain', 'Shur', 'camest', 'flee', 'Return', 'submit', 'affliction', 'wild', 'Have', 'seeth', 'Beerlahairoi', 'Bered', 'fourscore', 'As', 'Neither', 'circumcise', 'needs', 'circumcis', 'uncircumcised', 'laughed', '!', 'Isa', 'beget', 'next', 'talking', 'thirteen', 'plains', 'favour', 'serva', 'fetched', 'wash', 'yourselves', 'tr', 'morsel', 'hearts', 'hastened', 'ready', 'quickly', 'measures', 'fine', 'meal', 'knead', 'cakes', 'hearth', 'herd', 'fetcht', 'calf', 'tender', 'hasted', 'butter', 'milk', 'dressed', 'stricken', 'ceased', 'herself', 'waxed', 'pleasure', 'laugh', 'too', 'hard', 'At', 'denied', 'hide', 'Seeing', 'command', 'justice', 'judgment', 'cry', 'altogether', 'Sod', 'Wilt', 'spare', 'far', 'wick', 'Judge', 'sakes', 'ash', 'lack', 'angry', 'spe', 'LO', 'soon', 'communing', 'angels', 'lords', 'turn', 'tarry', 'rise', 'ways', 'abide', 'street', 'pressed', 'bake', 'unleavened', 'compassed', 'quart', 'wickedly', 'shadow', 'roof', 'Stand', 'fellow', 'jud', 'worse', 'break', 'blindness', 'small', 'gre', 'wearied', 'besides', 'pla', 'waxen', 'married', 'Up', 'seemed', 'mocked', 'consumed', 'lingered', 'hold', 'merciful', 'Escape', 'stay', 'magnified', 'mercy', 'saving', '?)', 'overthrow', 'Haste', 'anything', 'risen', 'rained', 'brimstone', 'fire', 'overthrew', 'inhabitants', 'gat', 'smoke', 'feared', 'Zo', 'Our', 'preserve', 'perceived', 'morrow', 'yesternight', 'fath', 'Moab', 'Moabites', 'Benam', 'Ammon', 'Said', 'broth', 'integrity', 'innocency', 'withheld', 'sinning', 'suffered', 'restore', 'prophet', 'offended', 'deeds', 'ought', 'sawest', 'thought', 'wander', 'womenservants', 'restored', 'thousand', 'silv', 'oth', 'reproved', 'prayed', 'healed', 'fast', 'wombs', 'visited', 'suck', 'weaned', 'mocking', 'Cast', 'bondwoman', 'bottle', 'putting', 'aw', 'wandered', 'spent', 'shrubs', 'sh', 'aileth', 'archer', 'Paran', 'Phichol', 'doe', 'falsely', 'violently', 'wot', 'ewe', 'lambs', 'mean', 'grove', 'tempt', 'lovest', 'Moriah', 'offer', 'saddled', 'clave', 'afar', 'Abide', 'yonder', 'worship', 'knife', 'wo', 'lamb', 'provide', 'order', 'stretched', 'Lay', 'fearest', 'caught', 'thicket', 'hor', 'Jehovahjireh', 'sworn', 'multiplying', 'sand', 'shore', 'possess', 'obeyed', 'Huz', 'Buz', 'Kemuel', 'Chesed', 'Hazo', 'Pildash', 'Jidlaph', 'concubine', 'Reumah', 'Tebah', 'Gaham', 'Thahash', 'Maachah', 'Kirjatharba', 'Cana', 'mourn', 'weep', 'sojourner', 'prince', 'choice', 'sepulchres', 'withhold', 'sepulchre', 'mind', 'intreat', 'Zohar', 'worth', 'audience', 'shekels', 'weighed', 'named', 'current', 'merchant', 'borders', 'sure', 'Mam', 'eldest', 'ruled', 'Put', 'thi', 'dwe', 'willing', 'follow', 'Beware', 'clear', 'oa', 'matter', 'Mesopotamia', 'kneel', 'speed', 'stand', 'wat', 'Drink', 'al', 'thereby', 'speaking', 'virgin', 'giving', 'drinking', 'emptied', 'trough', 'wondering', 'held', 'wit', 'prosperous', 'golden', 'earring', 'half', 'shekel', 'weight', 'Whose', 'room', 'lodge', 'moreover', 'straw', 'provender', 'worshipped', 'destitute', 'tru', 'led', 'standest', 'prepared', 'ungirded', 'errand', 'Speak', 'prosper', 'hou', 'Both', 'haste', 'kindly', 'proceedeth', 'bad', 'bowing', 'jewels', 'Rebek', 'precious', 'tarried', 'Send', 'least', 'Hinder', 'prospered', 'enquire', 'nurse', 'thousands', 'millions', 'hate', 'damsels', 'rode', 'followed', 'Lahairoi', 'meditate', 'eventide', 'coming', 'lighted', 'camel', 'walketh', 'mast', 'vail', 'comforted', 'Keturah', 'Zimran', 'Jokshan', 'Medan', 'Midian', 'Ishbak', 'Shuah', 'Asshurim', 'Letushim', 'Leummim', 'Ephah', 'Epher', 'Hanoch', 'Abidah', 'Eldaah', 'concubines', 'gifts', 'ghost', 'purchased', 'Nebajoth', 'Kedar', 'Adbeel', 'Mibsam', 'Mishma', 'Dumah', 'Massa', 'Hadar', 'Tema', 'Jetur', 'Naphish', 'Kedemah', 'towns', 'castles', 'Assyr', 'intreated', 'barr', 'struggled', 'Two', 'stronger', 'twins', 'red', 'hairy', 'Jac', 'boys', 'cunning', 'sod', 'pottage', 'fai', 'Feed', 'Sell', 'point', 'profit', 'Swear', 'lentiles', 'w', 'beside', 'Sojourn', 'perform', 'kept', 'charge', 'commandments', 'statutes', 'laws', 'sist', 'long', 'sporting', 'Lest', 'lightly', 'lien', 'guiltiness', 'charged', 'toucheth', 'sowed', 'received', 'hundredfo', 'forward', 'store', 'servan', 'envied', 'wells', 'mightier', 'springing', 'ou', 'Esek', 'strove', 'Sitnah', 'Ahuzzath', 'friends', 'army', 'touched', 'pea', 'betimes', 'Shebah', 'Judith', 'Beeri', 'Elon', 'Hitti', 'Which', 'grief', 'dim', 'dea', 'weapons', 'quiver', 'love', 'hunt', 'obey', 'kids', 'smooth', 'feel', 'seem', 'deceiver', 'Upon', 'goodly', 'ne', 'badest', 'sit', 'How', 'felt', 'discerned', 'han', 'Art', 'kiss', 'smell', 'dew', 'fatness', 'plenty', 'wi', 'blesseth', 'scarce', 'hunting', 'trembled', 'bitter', 'Bless', 'subtilty', 'rightly', 'supplanted', 'tim', 'reserved', 'sustained', 'yoke', 'wherewith', 'touching', 'purposing', 'fury', 'Until', 'forget', 'deprived', 'weary', 'daughers', 'pleased', 'Mahalath', 'certain', 'stones', 'pillows', 'ladder', 'reached', 'heav', 'ascending', 'descending', 'whereon', 'liest', 'north', 'sou', 'places', 'awaked', 'dreadful', 'poured', 'oil', 'Luz', 'vowed', 'vow', 'G', 'lying', 'floc', 'rolled', 'Lo', 'roll', 'tidings', 'embraced', 'abode', 'space', 'nought', 'eyed', 'beautiful', 'better', 'Fulfil', 'week', 'service', 'Reub', 'praise', 'else', 'kindled', 'knees', 'judged', 'wrestlings', 'wrestled', 'Naphtali', 'troop', 'Gad', 'Happy', 'Asher', 'wheat', 'wouldest', 'hired', 'hire', 'maiden', 'husba', 'Issachar', 'endued', 'dowry', 'Zebulun', 'afterwards', 'reproa', 'add', 'knowest', 'tar', 'learned', 'experience', 'Appoint', 'hadst', 'since', 'comi', 'removing', 'brown', 'goa', 'answer', 'fa', 'poplar', 'hazel', 'chesnut', 'pilled', 'strakes', 'appear', 'gutters', 'watering', 'troughs', 'conceive', 'whensoever', 'feeble', 'feebler', 'glory', 'power', 'deceived', 'changed', 'times', 'speckl', 'rams', 'leaped', 'grisled', 'leap', 'grisl', 'doeth', 'anointedst', 'vowedst', 'inheritance', 'Are', 'strangers', 'quite', 'riches', 'ours', 'carried', 'getting', 'shear', 'images', 'stole', 'unawares', 'Gilead', 'overtook', 'heed', 'either', 'mou', 'captives', 'secretly', 'steal', 'mirth', 'songs', 'tabret', 'foolishly', 'doing', 'though', 'longedst', 'force', 'whomsoever', 'findest', 'discern', 'furniture', 'searched', 'displease', 'custom', 'chode', 'trespass', 'hotly', 'Whereas', 'stuff', 'ewes', 'torn', 'loss', 'drought', 'frost', 'fourteen', 'Except', 'empty', 'labour', 'rebuked', 'mi', 'Gather', 'Jegarsahadutha', 'Galeed', 'Mizpah', 'watch', 'absent', 'harm', 'sacrifice', 'bre', 'met', 'Mahanaim', 'messengers', 'womenservan', 'distressed', 'bands', 'worthy', 'mercies', 'truth', 'staff', 'Deliver', 'Es', 'lodged', 'Thirty', 'milch', 'colts', 'bulls', 'foals', 'Pass', 'foremost', 'meeteth', 'asketh', 'droves', 'On', 'appease', 'accept', 'eleven', 'ford', 'Jabbok', 'brook', 'breaking', 'hollow', 'joint', 'breaketh', 'Isra', 'Tell', 'dost', 'ask', 'Peniel', 'preserved', 'Penuel', 'halted', 'sinew', 'shrank', 'handmaids', 'hindermost', 'graciously', 'handmaidens', 'themselv', 'meanest', 'urged', 'knoweth', 'overdrive', 'lead', 'softly', 'endure', 'folk', 'needeth', 'Succoth', 'booths', 'Shalem', 'parcel', 'erected', 'EleloheIsrael', 'defiled', 'fie', 'commune', 'wrought', 'folly', 'daught', 'longeth', 'marriages', 'trade', 'possessions', 'Ask', 'never', 'gift', 'deceitfully', 'reproach', 'consent', 'deferred', 'delight', 'honourable', 'peaceable', 'large', 'Only', 'herein', 'boldly', 'males', 'edge', 'spoiled', 'wealth', 'troubled', 'stink', 'Perizzit', 'Should', 'fleddest', 'strange', 'change', 'garmen', 'distress', 'earrings', 'oak', 'terror', 'pursue', 'Elbethel', 'Deborah', 'beneath', 'Allonbachuth', 'na', 'loins', 'sto', 'thereon', 'Ephra', 'travailed', 'midwife', 'departing', ')', 'Beno', 'Ephrath', 'Bethlehem', 'beyond', 'Edar', 'concubi', 'twel', 'Zebul', 'Arbah', 'da', 'Jeush', 'Jaalam', 'Korah', 'got', 'Edomites', 'Teman', 'Omar', 'Zepho', 'Gatam', 'Kenaz', 'Timna', 'Amal', 'Nahath', 'Zerah', 'Shammah', 'Mizz', 'Amalek', 'Kor', 'Horite', 'inhabited', 'Lotan', 'Shobal', 'Dishon', 'Ezer', 'Dishan', 'Hori', 'Hemam', 'Alvan', 'Manahath', 'Ebal', 'Shepho', 'Onam', 'Ajah', 'mules', 'Hemdan', 'Eshban', 'Ithran', 'Cheran', 'Bilhan', 'Zaavan', 'Akan', 'Aran', 'Beor', 'Dinhabah', 'Bozrah', 'Husham', 'Temani', 'Hadad', 'Bedad', 'ste', 'Avith', 'Samlah', 'Masrekah', 'Saul', 'Baalhanan', 'Achbor', 'Pau', 'Mehetabel', 'Matred', 'Mezahab', 'Timnah', 'Alvah', 'Jetheth', 'Elah', 'Pinon', 'Mibzar', 'Magdiel', 'Iram', 'habitations', 'possessi', 'seventeen', 'feeding', 'wiv', 'report', 'colours', 'peaceably', 'binding', 'sheaves', 'sheaf', 'upright', 'obeisance', 'Shalt', 'reign', 'dreams', 'moon', 'ourselves', 'observed', 'Do', 'wandering', 'seekest', 'seek', 'hence', 'Dothan', 'conspired', 'dreamer', 'Some', 'Shed', 'rid', 'deliver', 'stript', 'Ishmeelites', 'spicery', 'balm', 'myrrh', 'conceal', 'sell', 'content', 'Midianites', 'merchantmen', 'rent', 'clothes', 'killed', 'kid', 'dipped', 'fou', 'doubt', 'sackcloth', 'mourned', 'refused', 'Potiphar', 'officer', 'Adullamite', 'Hirah', 'Shel', 'Chezib', 'marry', 'raise', 'spilled', 'displeased', 'Remain', 'widow', 'Shelah', 'gro', 'sheepshearers', 'Timnath', 'friend', 'garments', 'wrapped', 'grown', '.)', 'pledge', 'signet', 'widowhood', 'openly', 'shamed', 'months', 'played', 'whoredom', 'chi', 'Discern', 'acknowledged', 'travail', 'scarlet', 'breach', 'Pharez', 'Zarah', 'overseer', 'person', 'Lie', 'wotteth', 'committed', 'business', 'mock', 'loud', 'voi', 'home', 'wrath', 'prisoners', 'bou', 'doer', 'officers', 'butlers', 'bakers', 'continued', 'season', 'sad', 'sadly', 'interpreter', 'interpretations', 'belong', 'vine', 'branches', 'budded', 'blossoms', 'shot', 'clusters', 'ripe', 'grap', 'grapes', 'Yet', 'former', 'think', 'mention', 'Hebrews', 'dungeon', 'baskets', 'uppermost', 'basket', 'bakemeats', 'hang', 'birthday', 'butlership', 'hanged', 'interpreted', 'forgat', 'fatfleshed', 'meadow', 'leanfleshed', 'brink', 'slept', 'stalk', 'rank', 'blasted', 'sprung', 'magicians', 'interpret', 'faults', 'bak', 'office', 'hastily', 'dunge', 'shaved', 'canst', 'bank', 'riv', 'mead', 'poor', 'badne', 'lean', 'withered', 'declare', 'sheweth', 'throughout', 'Egy', 'forgotten', 'consume', 'reason', 'following', 'doubled', 'twice', 'shortly', 'discreet', 'appoint', 'part', 'plenteous', 'perish', 'Can', 'Forasmuch', 'rul', 'throne', 'ring', 'arrayed', 'vestures', 'linen', 'chain', 'ride', 'chariot', 'Bow', 'kn', 'ruler', 'Zaphnathpaaneah', 'Asenath', 'Potipherah', 'handfuls', 'citi', 'numbering', 'plenteousness', 'dearth', 'sa', 'famished', 'storehouses', 'mischief', 'befall', 'governor', 'roughly', 'Whence', 'From', 'spi', 'Hereby', 'proved', 'y', 'pris', 'hous', 'verified', 'verily', 'guilty', 'anguish', 'besought', 'Spake', 'required', 'understood', 'provision', 'laded', 'inn', 'espied', 'failed', 'befell', 'households', 'traffick', 'bundle', 'bundles', 'Me', 'bereaved', 'childr', 'Slay', 'alo', 'gray', 'hairs', 'solemnly', 'protest', 'fo', 'straitly', 'state', 'tenor', 'wor', 'blame', 'best', 'fruits', 'vessels', 'honey', 'spices', 'nuts', 'almon', 'double', 'oversig', 'dine', 'noon', 'bade', 'occasion', 'bondmen', 'sir', 'weig', 'Peace', 'treasure', 'sac', 'washed', 'welfare', 'health', 'gracious', 'yearn', 'sought', 'chamber', 'refrained', 'Set', 'abomination', 'marvelled', 'messes', 'mess', 'merry', 'Fill', 'overtake', 'rewarded', 'drinketh', 'divineth', 'forbid', 'mouths', 'blameless', 'speedily', 'younge', 'deed', 'divine', 'loveth', 'bondman', 'refrain', 'Cause', 'aloud', 'hith', 'earing', 'posterity', 'deliverance', 'nourish', 'poverty', 'speaketh', 'Moreover', 'fame', 'co', 'lade', 'wagons', 'regard', 'commandment', 'To', 'changes', 'laden', 'fainted', 'reviv', 'sacrifices', 'visions', 'nati', 'aga', 'His', 'Phallu', 'Hezron', 'Carmi', 'Jemuel', 'Jamin', 'Ohad', 'Jachin', 'Shaul', 'Canaanitish', 'Gershon', 'Kohath', 'Merari', 'Zar', 'Hamul', 'Tola', 'Phuvah', 'Job', 'Shimron', 'Sered', 'Jahleel', 'Din', 'Ziphion', 'Haggi', 'Shuni', 'Ezbon', 'Eri', 'Arodi', 'Areli', 'Jimnah', 'Ishuah', 'Isui', 'Beriah', 'Serah', 'Heber', 'Malchiel', 'sixteen', 'Belah', 'Becher', 'Ashbel', 'Gera', 'Naaman', 'Ehi', 'Rosh', 'Muppim', 'Huppim', 'Ard', 'Hushim', 'Jahzeel', 'Guni', 'Jezer', 'Shillem', 'direct', 'presented', 'shepherds', 'occupation', 'fathe', 'shepherd', 'morever', 'pasture', 'activity', 'rulers', 'pilgrimage', 'attained', 'Rameses', 'nourished', 'boug', 'faileth', 'fail', 'exchange', 'horses', 'bodies', 'lan', 'desolate', 'priests', 'assigned', 'sow', 'increase', 'parts', 'saved', 'multiplied', 'nigh', 'bed', 'si', 'strengthened', 'issue', 'begettest', 'Padan', 'guiding', 'wittingly', 'Angel', 'redeemed', 'lads', 'remove', 'Not', 'Manass', 'last', 'excellency', 'dignity', 'pow', 'Unstable', 'excel', 'wentest', 'defiledst', 'couch', 'instruments', 'cruelty', 'secret', 'assembly', 'honour', 'unit', 'selfwill', 'wall', 'fierce', 'cru', 'lion', 'whelp', 'prey', 'stooped', 'couched', 'rouse', 'sceptre', 'lawgiver', 'Shiloh', 'Binding', 'foal', 'colt', 'teeth', 'haven', 'ships', 'Zidon', 'strong', 'couching', 'burdens', 'tribute', 'tribes', 'adder', 'path', 'biteth', 'horse', 'heels', 'rider', 'waited', 'salvation', 'overcome', 'royal', 'dainties', 'hind', 'loose', 'giveth', 'bough', 'run', 'wa', 'archers', 'sorely', 'arms', 'breasts', 'progenitors', 'utmost', 'hil', 'crown', 'ravin', 'wolf', 'devour', 'spoil', 'peop', 'purchase', 'commanding', 'yielded', 'physicians', 'embalm', 'embalmed', 'past', 'elders', 'chariots', 'horsemen', 'threshingfloor', 'Atad', 'lamentati', 'floor', 'Egyptia', 'Abelmizraim', 'requite', 'messenger', 'Forgive', 'forgive', 'meant', 'Machir', 'visit', 'coffin']\n"
     ]
    }
   ],
   "source": [
    "print(\"список слів, що зустрічаються < 5 разів:\", '\\n\\n', less_than_5)"
   ]
  },
  {
   "cell_type": "markdown",
   "id": "b738b845",
   "metadata": {},
   "source": [
    "---"
   ]
  },
  {
   "cell_type": "markdown",
   "id": "fe8b0a97",
   "metadata": {},
   "source": [
    "### • draw a plot showing mapping from word length to word frequency"
   ]
  },
  {
   "cell_type": "code",
   "execution_count": 30,
   "id": "b9b82452",
   "metadata": {},
   "outputs": [],
   "source": [
    "import matplotlib.pyplot as plt"
   ]
  },
  {
   "cell_type": "code",
   "execution_count": 31,
   "id": "3ded9f76",
   "metadata": {},
   "outputs": [],
   "source": [
    "word_length_freq = {} # словник, {довжина слова: список частот}\n",
    "for word, freq in fdist.items():\n",
    "    length = len(word)\n",
    "    if length not in word_length_freq:\n",
    "        word_length_freq[length] = []\n",
    "    word_length_freq[length].append(freq)"
   ]
  },
  {
   "cell_type": "code",
   "execution_count": 37,
   "id": "2f7429dc",
   "metadata": {},
   "outputs": [
    {
     "data": {
      "image/png": "[encoded data removed]",
      "text/plain": [
       "<Figure size 640x480 with 1 Axes>"
      ]
     },
     "metadata": {},
     "output_type": "display_data"
    }
   ],
   "source": [
    "plt.bar(word_length_freq.keys(), [sum(freq_list) for freq_list in word_length_freq.values()])\n",
    "plt.xlabel('word length')\n",
    "plt.ylabel('частота слів')\n",
    "plt.show()"
   ]
  },
  {
   "cell_type": "markdown",
   "id": "723c3e31",
   "metadata": {},
   "source": [
    "---"
   ]
  },
  {
   "cell_type": "markdown",
   "id": "3988bad2",
   "metadata": {},
   "source": [
    "### • find 10 most frequent words occurring at the end of the sentence"
   ]
  },
  {
   "cell_type": "code",
   "execution_count": 71,
   "id": "9d314d71",
   "metadata": {},
   "outputs": [],
   "source": [
    "from nltk.tokenize import sent_tokenize, word_tokenize\n",
    "from collections import defaultdict"
   ]
  },
  {
   "cell_type": "code",
   "execution_count": 74,
   "id": "d7f65e6b",
   "metadata": {},
   "outputs": [
    {
     "name": "stdout",
     "output_type": "stream",
     "text": [
      "10 most frequent words occurring at the end of the sentence: \n",
      "\n",
      " [('him', 58), ('me', 38), ('thee', 33), ('earth', 31), ('them', 25), ('son', 25), ('wife', 20), ('it', 19), ('lord', 18), ('egypt', 18)]\n"
     ]
    }
   ],
   "source": [
    "sentences = sent_tokenize(\" \".join(text3)) # речення\n",
    "\n",
    "end_words_freq = defaultdict(int)\n",
    "\n",
    "def clean_word(word): # без знаків та інших небуквених елементів\n",
    "    return ''.join(char for char in word if char.isalnum())\n",
    "\n",
    "for sentence in sentences:\n",
    "    words = word_tokenize(sentence)\n",
    "    if len(words) > 1:\n",
    "        second_last_word = clean_word(words[-2])\n",
    "        end_words_freq[second_last_word.lower()] += 1\n",
    "\n",
    "most_common_end_words = sorted(end_words_freq.items(), key=lambda x: x[1], reverse=True)[:10]\n",
    "\n",
    "print(\"10 most frequent words occurring at the end of the sentence:\", '\\n\\n', most_common_end_words)"
   ]
  },
  {
   "cell_type": "markdown",
   "id": "a984af3a",
   "metadata": {},
   "source": [
    "---"
   ]
  },
  {
   "cell_type": "markdown",
   "id": "582ed5ce",
   "metadata": {},
   "source": [
    "## Task 2. `Create custom NLTK text of your favourite (public domain) book via`"
   ]
  },
  {
   "cell_type": "code",
   "execution_count": 93,
   "id": "443e8acc",
   "metadata": {},
   "outputs": [],
   "source": [
    "raw = ' '.join(text3)\n",
    "tokens = nltk.word_tokenize(raw)\n",
    "text = nltk.Text(tokens)"
   ]
  },
  {
   "cell_type": "markdown",
   "id": "aa0a15dc",
   "metadata": {},
   "source": [
    "---"
   ]
  },
  {
   "cell_type": "markdown",
   "id": "a1fc487a",
   "metadata": {},
   "source": [
    "### • Concordance"
   ]
  },
  {
   "cell_type": "code",
   "execution_count": 94,
   "id": "6f4514cd",
   "metadata": {},
   "outputs": [
    {
     "name": "stdout",
     "output_type": "stream",
     "text": [
      "Displaying 7 of 7 matches:\n",
      "eir portion . After these things the word of the LORD came unto Abram in a vis\n",
      "se is mine heir . And , behold , the word of the LORD came unto him , saying ,\n",
      "I would it might be according to thy word . And he removed that day the he goa\n",
      " well with the flocks ; and bring me word again . So he sent him out of the va\n",
      "er my house , and according unto thy word shall all my people be rul only in t\n",
      " money . And he did according to the word that Joseph had spoken . As soon as \n",
      " thy servant , I pray thee , speak a word in my lord ' s ears , and let not th\n"
     ]
    }
   ],
   "source": [
    "text.concordance(\"word\") # як використовується це слово у контексті"
   ]
  },
  {
   "cell_type": "markdown",
   "id": "7d8af4d2",
   "metadata": {},
   "source": [
    "---"
   ]
  },
  {
   "cell_type": "markdown",
   "id": "ef773311",
   "metadata": {},
   "source": [
    "### • Similar"
   ]
  },
  {
   "cell_type": "code",
   "execution_count": 95,
   "id": "4b0e91c2",
   "metadata": {},
   "outputs": [
    {
     "name": "stdout",
     "output_type": "stream",
     "text": [
      "lord name wife hand servants plain face day firmament land seed days\n",
      "cattle man field sight stone east father mother\n"
     ]
    }
   ],
   "source": [
    "text.similar(\"word\") # слова, які використовуються у схожих контекстах"
   ]
  },
  {
   "cell_type": "markdown",
   "id": "341b167c",
   "metadata": {},
   "source": [
    "---"
   ]
  },
  {
   "cell_type": "markdown",
   "id": "7497b36e",
   "metadata": {},
   "source": [
    "### • Dispersion Plot "
   ]
  },
  {
   "cell_type": "code",
   "execution_count": 96,
   "id": "847ea8b1",
   "metadata": {},
   "outputs": [
    {
     "data": {
      "image/png": "[encoded data removed]",
      "text/plain": [
       "<Figure size 640x480 with 1 Axes>"
      ]
     },
     "metadata": {},
     "output_type": "display_data"
    }
   ],
   "source": [
    "text.dispersion_plot([\"word\"]) # позиції кожного входження слова у тексті, що дозволяє оцінити його розподіл"
   ]
  },
  {
   "cell_type": "markdown",
   "id": "b2864a5e",
   "metadata": {},
   "source": [
    "---"
   ]
  },
  {
   "cell_type": "markdown",
   "id": "2fcfb7ab",
   "metadata": {},
   "source": [
    "### • FreqDist"
   ]
  },
  {
   "cell_type": "code",
   "execution_count": 99,
   "id": "4791b2d1",
   "metadata": {},
   "outputs": [
    {
     "name": "stdout",
     "output_type": "stream",
     "text": [
      "[(',', 3682), ('and', 2428), ('the', 2411), ('of', 1358), ('.', 1316), ('And', 1250), ('his', 651), ('he', 648), ('to', 611), (';', 606)]\n"
     ]
    }
   ],
   "source": [
    "print(FreqDist(text).most_common(10)) # частоту вживання кожного слова у тексті"
   ]
  },
  {
   "cell_type": "markdown",
   "id": "95664610",
   "metadata": {},
   "source": [
    "---"
   ]
  },
  {
   "cell_type": "markdown",
   "id": "cb16a41e",
   "metadata": {},
   "source": [
    "## Task 3. `Write a program that will`"
   ]
  },
  {
   "cell_type": "code",
   "execution_count": 100,
   "id": "4eda5111",
   "metadata": {},
   "outputs": [],
   "source": [
    "import re"
   ]
  },
  {
   "cell_type": "code",
   "execution_count": 101,
   "id": "45596c4e",
   "metadata": {},
   "outputs": [],
   "source": [
    "def extract_monetary_amounts(text): # вилучення грошових сум з тексту\n",
    "    amounts = re.findall(r'\\$[0-9]+(?:\\.[0-9]+)?', text)\n",
    "    return [float(amount[1:]) for amount in amounts]"
   ]
  },
  {
   "cell_type": "code",
   "execution_count": 102,
   "id": "1bfbd9af",
   "metadata": {},
   "outputs": [],
   "source": [
    "def sum_monetary_amounts(amounts): # сумування грошових сум\n",
    "    return sum(amounts)"
   ]
  },
  {
   "cell_type": "markdown",
   "id": "85e14565",
   "metadata": {},
   "source": [
    "---"
   ]
  },
  {
   "cell_type": "code",
   "execution_count": 103,
   "id": "0fdef375",
   "metadata": {},
   "outputs": [],
   "source": [
    "text_ = \"qwe erf $123.45, jwnef ekenf $400.\""
   ]
  },
  {
   "cell_type": "code",
   "execution_count": 107,
   "id": "812a258e",
   "metadata": {},
   "outputs": [
    {
     "data": {
      "text/plain": [
       "[123.45, 400.0]"
      ]
     },
     "execution_count": 107,
     "metadata": {},
     "output_type": "execute_result"
    }
   ],
   "source": [
    "amounts = extract_monetary_amounts(text_)\n",
    "extract_monetary_amounts(text_)"
   ]
  },
  {
   "cell_type": "code",
   "execution_count": 108,
   "id": "41a66811",
   "metadata": {},
   "outputs": [
    {
     "data": {
      "text/plain": [
       "523.45"
      ]
     },
     "execution_count": 108,
     "metadata": {},
     "output_type": "execute_result"
    }
   ],
   "source": [
    "sum_monetary_amounts(amounts)"
   ]
  },
  {
   "cell_type": "markdown",
   "id": "635ade46",
   "metadata": {},
   "source": [
    "---"
   ]
  },
  {
   "cell_type": "markdown",
   "id": "408f4dc6",
   "metadata": {},
   "source": [
    "## Task 4."
   ]
  },
  {
   "cell_type": "code",
   "execution_count": 110,
   "id": "9043dc0c",
   "metadata": {},
   "outputs": [],
   "source": [
    "import json"
   ]
  },
  {
   "cell_type": "code",
   "execution_count": 111,
   "id": "dd17ef3c",
   "metadata": {},
   "outputs": [],
   "source": [
    "def clean_nodes(nodes): # вилучення записів з \"Nodes\", які починаються з \"8.\"\n",
    "    return [node for node in nodes if not node.startswith(\"8.\")]"
   ]
  },
  {
   "cell_type": "code",
   "execution_count": 112,
   "id": "9043cdd4",
   "metadata": {},
   "outputs": [],
   "source": [
    "def transform_server(server): #замінF формату запису \"ServerName.ServerType\" на {\"name\": \"ServerName\", \"type\": \"ServerType\"}\n",
    "    name, server_type = server.split(\".\")\n",
    "    return '{{\"name\": \"{}\", \"type\": \"{}\"}}'.format(name, server_type)"
   ]
  },
  {
   "cell_type": "code",
   "execution_count": 113,
   "id": "718c98d3",
   "metadata": {},
   "outputs": [],
   "source": [
    "json_data = '''\n",
    "{\n",
    "    \"HTTPHost\": \"example.com\",\n",
    "    \"HTTPPort\": 8080,\n",
    "    \"Config\": {\n",
    "        \"Enabled\": true,\n",
    "        \"Server\": \"wakuv2.prod\",\n",
    "        \"Nodes\": [\"8.210.222.231\", \"168.166.125.145\", \"8.45.67.89\"]\n",
    "    }\n",
    "}\n",
    "'''"
   ]
  },
  {
   "cell_type": "code",
   "execution_count": 114,
   "id": "6d233896",
   "metadata": {},
   "outputs": [],
   "source": [
    "data = json.loads(json_data)"
   ]
  },
  {
   "cell_type": "code",
   "execution_count": 115,
   "id": "308be761",
   "metadata": {},
   "outputs": [],
   "source": [
    "data[\"Config\"][\"Nodes\"] = clean_nodes(data[\"Config\"][\"Nodes\"])"
   ]
  },
  {
   "cell_type": "code",
   "execution_count": 116,
   "id": "a03bc994",
   "metadata": {},
   "outputs": [],
   "source": [
    "data[\"Config\"][\"Server\"] = transform_server(data[\"Config\"][\"Server\"])"
   ]
  },
  {
   "cell_type": "code",
   "execution_count": 117,
   "id": "6686579c",
   "metadata": {},
   "outputs": [
    {
     "name": "stdout",
     "output_type": "stream",
     "text": [
      "{\n",
      "    \"HTTPHost\": \"example.com\",\n",
      "    \"HTTPPort\": 8080,\n",
      "    \"Config\": {\n",
      "        \"Enabled\": true,\n",
      "        \"Server\": \"{\\\"name\\\": \\\"wakuv2\\\", \\\"type\\\": \\\"prod\\\"}\",\n",
      "        \"Nodes\": [\n",
      "            \"168.166.125.145\"\n",
      "        ]\n",
      "    }\n",
      "}\n"
     ]
    }
   ],
   "source": [
    "print(json.dumps(data, indent=4))"
   ]
  },
  {
   "cell_type": "code",
   "execution_count": null,
   "id": "130d8324",
   "metadata": {},
   "outputs": [],
   "source": []
  },
  {
   "cell_type": "code",
   "execution_count": null,
   "id": "0177f3bd",
   "metadata": {},
   "outputs": [],
   "source": []
  },
  {
   "cell_type": "code",
   "execution_count": null,
   "id": "3b78e003",
   "metadata": {},
   "outputs": [],
   "source": []
  },
  {
   "cell_type": "code",
   "execution_count": null,
   "id": "5c47bf3a",
   "metadata": {},
   "outputs": [],
   "source": []
  },
  {
   "cell_type": "code",
   "execution_count": null,
   "id": "ae845fe6",
   "metadata": {},
   "outputs": [],
   "source": []
  },
  {
   "cell_type": "code",
   "execution_count": null,
   "id": "d2cc973a",
   "metadata": {},
   "outputs": [],
   "source": []
  },
  {
   "cell_type": "code",
   "execution_count": null,
   "id": "d85f98d5",
   "metadata": {},
   "outputs": [],
   "source": []
  },
  {
   "cell_type": "code",
   "execution_count": null,
   "id": "70464fe1",
   "metadata": {},
   "outputs": [],
   "source": []
  }
 ],
 "metadata": {
  "kernelspec": {
   "display_name": "Python 3 (ipykernel)",
   "language": "python",
   "name": "python3"
  },
  "language_info": {
   "codemirror_mode": {
    "name": "ipython",
    "version": 3
   },
   "file_extension": ".py",
   "mimetype": "text/x-python",
   "name": "python",
   "nbconvert_exporter": "python",
   "pygments_lexer": "ipython3",
   "version": "3.10.8"
  }
 },
 "nbformat": 4,
 "nbformat_minor": 5
}
