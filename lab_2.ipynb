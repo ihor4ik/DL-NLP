{
 "cells": [
  {
   "cell_type": "markdown",
   "id": "18d750b8",
   "metadata": {},
   "source": [
    "# Exercises"
   ]
  },
  {
   "cell_type": "markdown",
   "id": "b261b8cb",
   "metadata": {},
   "source": [
    "---"
   ]
  },
  {
   "cell_type": "markdown",
   "id": "f259dfda",
   "metadata": {},
   "source": [
    "## Task 1."
   ]
  },
  {
   "cell_type": "code",
   "execution_count": 95,
   "id": "f591a05a",
   "metadata": {},
   "outputs": [],
   "source": [
    "import nltk\n",
    "from nltk.corpus import twitter_samples\n",
    "from nltk.tag import pos_tag\n",
    "from nltk.stem.wordnet import WordNetLemmatizer\n",
    "from nltk.tokenize import word_tokenize\n",
    "from nltk.corpus import stopwords\n",
    "from nltk import FreqDist\n",
    "from nltk.tokenize import word_tokenize\n",
    "import re, string\n",
    "import random"
   ]
  },
  {
   "cell_type": "code",
   "execution_count": 96,
   "id": "b7ae56fa",
   "metadata": {},
   "outputs": [
    {
     "name": "stderr",
     "output_type": "stream",
     "text": [
      "[nltk_data] Downloading package twitter_samples to\n",
      "[nltk_data]     /Users/macbook/nltk_data...\n",
      "[nltk_data]   Package twitter_samples is already up-to-date!\n"
     ]
    }
   ],
   "source": [
    "nltk.download('twitter_samples') # позитивні та негативні твіти\n",
    "positive_tweets = twitter_samples.strings('positive_tweets.json')\n",
    "negative_tweets = twitter_samples.strings('negative_tweets.json')"
   ]
  },
  {
   "cell_type": "code",
   "execution_count": 97,
   "id": "55bc63d5",
   "metadata": {},
   "outputs": [],
   "source": [
    "def clean_tokens(tokens): # підготовка даних\n",
    "    stop_words = stopwords.words('english')\n",
    "    lemmatizer = WordNetLemmatizer()\n",
    "    cleaned_tokens = []\n",
    "    for token, tag in pos_tag(tokens):\n",
    "        if token.startswith('http') or token.startswith('@'):\n",
    "            continue\n",
    "        if token.startswith('#'):\n",
    "            token = \"\"\n",
    "        token = lemmatizer.lemmatize(token)\n",
    "        if token not in string.punctuation and token.lower() not in stop_words:\n",
    "            cleaned_tokens.append(token.lower())\n",
    "    return cleaned_tokens"
   ]
  },
  {
   "cell_type": "code",
   "execution_count": 102,
   "id": "cd664e83",
   "metadata": {},
   "outputs": [],
   "source": [
    "def process_tweet(tweet): # лематизація\n",
    "    return clean_tokens(word_tokenize(tweet))"
   ]
  },
  {
   "cell_type": "code",
   "execution_count": 103,
   "id": "e35be089",
   "metadata": {},
   "outputs": [],
   "source": [
    "def create_model_data(positive_tweets, negative_tweets): # дані для моделювання\n",
    "    positive_tokens = [(process_tweet(tweet), 'Positive') for tweet in positive_tweets]\n",
    "    negative_tokens = [(process_tweet(tweet), 'Negative') for tweet in negative_tweets]\n",
    "    return positive_tokens + negative_tokens"
   ]
  },
  {
   "cell_type": "markdown",
   "id": "23ea304d",
   "metadata": {},
   "source": [
    "### model_data"
   ]
  },
  {
   "cell_type": "code",
   "execution_count": 104,
   "id": "e3ed3ff2",
   "metadata": {},
   "outputs": [],
   "source": [
    "def split_data(model_data):\n",
    "    random.shuffle(model_data)\n",
    "    train_data = model_data[:7000]\n",
    "    test_data = model_data[7000:]\n",
    "    return train_data, test_data"
   ]
  },
  {
   "cell_type": "code",
   "execution_count": 105,
   "id": "3b3fc599",
   "metadata": {},
   "outputs": [],
   "source": [
    "def evaluate_model(classifier, test_data):\n",
    "    accuracy = nltk.classify.accuracy(classifier, test_data)\n",
    "    print(\"Accuracy:\", accuracy)"
   ]
  },
  {
   "cell_type": "code",
   "execution_count": 106,
   "id": "c8c8024d",
   "metadata": {},
   "outputs": [],
   "source": [
    "def run_model(classifier): # моделювання\n",
    "    model_data = create_model_data(positive_tweets, negative_tweets)\n",
    "    train_data, test_data = split_data(model_data)\n",
    "    classifier = classifier.train(train_data)\n",
    "    evaluate_model(classifier, test_data)"
   ]
  },
  {
   "cell_type": "code",
   "execution_count": null,
   "id": "26fe0765",
   "metadata": {},
   "outputs": [],
   "source": [
    "run_model(nltk.NaiveBayesClassifier)"
   ]
  },
  {
   "cell_type": "code",
   "execution_count": null,
   "id": "afcb16be",
   "metadata": {},
   "outputs": [],
   "source": []
  },
  {
   "cell_type": "code",
   "execution_count": null,
   "id": "40852918",
   "metadata": {},
   "outputs": [],
   "source": []
  },
  {
   "cell_type": "code",
   "execution_count": null,
   "id": "5fe30d96",
   "metadata": {},
   "outputs": [],
   "source": []
  },
  {
   "cell_type": "code",
   "execution_count": null,
   "id": "85c34951",
   "metadata": {},
   "outputs": [],
   "source": []
  },
  {
   "cell_type": "code",
   "execution_count": null,
   "id": "a8d5d08c",
   "metadata": {},
   "outputs": [],
   "source": []
  },
  {
   "cell_type": "code",
   "execution_count": null,
   "id": "2d37f32c",
   "metadata": {},
   "outputs": [],
   "source": []
  },
  {
   "cell_type": "code",
   "execution_count": null,
   "id": "d1f8afa6",
   "metadata": {},
   "outputs": [],
   "source": []
  },
  {
   "cell_type": "code",
   "execution_count": null,
   "id": "fbb31a61",
   "metadata": {},
   "outputs": [],
   "source": []
  },
  {
   "cell_type": "code",
   "execution_count": null,
   "id": "9f48bc10",
   "metadata": {},
   "outputs": [],
   "source": []
  },
  {
   "cell_type": "code",
   "execution_count": null,
   "id": "32ed8982",
   "metadata": {},
   "outputs": [],
   "source": []
  },
  {
   "cell_type": "code",
   "execution_count": null,
   "id": "d011149c",
   "metadata": {},
   "outputs": [],
   "source": []
  }
 ],
 "metadata": {
  "kernelspec": {
   "display_name": "Python 3 (ipykernel)",
   "language": "python",
   "name": "python3"
  },
  "language_info": {
   "codemirror_mode": {
    "name": "ipython",
    "version": 3
   },
   "file_extension": ".py",
   "mimetype": "text/x-python",
   "name": "python",
   "nbconvert_exporter": "python",
   "pygments_lexer": "ipython3",
   "version": "3.10.8"
  }
 },
 "nbformat": 4,
 "nbformat_minor": 5
}
